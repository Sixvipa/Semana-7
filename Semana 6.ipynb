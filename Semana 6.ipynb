{
 "cells": [
  {
   "cell_type": "markdown",
   "id": "7e68fcb6-44b2-4c92-ad5d-e4cf748c5603",
   "metadata": {},
   "source": [
    "# Titulo del Cuaderno: Semana 6"
   ]
  },
  {
   "cell_type": "markdown",
   "id": "02d3dedc-755c-471f-9592-e1528ed6f339",
   "metadata": {},
   "source": [
    "## Introduccion:En este cuaderno exploraremos varios aspectos de la ciencia de datos, incluyendo lenguajes, bibliotecas, herramientas y ejemplos de código."
   ]
  },
  {
   "cell_type": "markdown",
   "id": "cad16a31-70f9-4c24-8352-530f09412312",
   "metadata": {},
   "source": [
    "## Lenguajes de Ciencia de Datos\n",
    "- Python\n",
    "- R\n",
    "- SQL\n",
    "- Julia\n",
    "- Scala\n",
    "  "
   ]
  },
  {
   "cell_type": "markdown",
   "id": "fdaf6518-7110-4e85-959c-8c48372dd6bf",
   "metadata": {},
   "source": [
    "## Bibliotecas de Ciencia de Datos\n",
    "- Pandas\n",
    "- NumPy\n",
    "- Matplotlib\n",
    "- Scikit-learn\n",
    "- TensorFlow\n",
    "- Keras"
   ]
  },
  {
   "cell_type": "markdown",
   "id": "04e1ef7e-7cd8-49f0-a07b-9880d08f475b",
   "metadata": {},
   "source": [
    "## Herramientas de Ciencia de Datos\n",
    "| Herramienta         | Descripción                                     |\n",
    "|---------------------|-------------------------------------------------|\n",
    "| Jupyter Notebooks   | Entorno interactivo para programación en Python |\n",
    "| RStudio             | IDE para R                                      |\n",
    "| Apache Hadoop       | Framework para procesamiento de grandes datos   |\n",
    "| Apache Spark        | Motor de análisis de datos en tiempo real       |\n"
   ]
  },
  {
   "cell_type": "markdown",
   "id": "30bec0d8-85e1-470b-9f97-e799daf0423b",
   "metadata": {},
   "source": [
    "## Ejemplos de Expresiones Aritméticas"
   ]
  },
  {
   "cell_type": "code",
   "execution_count": 6,
   "id": "f95aa6db-d07c-498f-a858-bf1f02fc6e58",
   "metadata": {},
   "outputs": [
    {
     "name": "stdout",
     "output_type": "stream",
     "text": [
      "Multiplicación: 15\n",
      "Suma: 8\n"
     ]
    }
   ],
   "source": [
    "# Multiplicar y sumar números\n",
    "a = 5\n",
    "b = 3\n",
    "multiplicacion = a * b\n",
    "suma = a + b\n",
    "print(\"Multiplicación:\", multiplicacion)\n",
    "print(\"Suma:\", suma)\n"
   ]
  },
  {
   "cell_type": "code",
   "execution_count": 7,
   "id": "8f9de037-6f07-4ce1-9ea0-2b9c43fe687b",
   "metadata": {},
   "outputs": [
    {
     "name": "stdout",
     "output_type": "stream",
     "text": [
      "150 minutos son 2.5 horas\n"
     ]
    }
   ],
   "source": [
    "# Convertir minutos en horas\n",
    "minutos = 150\n",
    "horas = minutos / 60\n",
    "print(minutos, \"minutos son\", horas, \"horas\")\n"
   ]
  },
  {
   "cell_type": "code",
   "execution_count": 8,
   "id": "c06cc65a-3d95-4823-a0a3-5f2232302b23",
   "metadata": {},
   "outputs": [
    {
     "name": "stdout",
     "output_type": "stream",
     "text": [
      "- Aprender Python\n",
      "- Dominar bibliotecas de ciencia de datos\n",
      "- Aplicar ciencia de datos en proyectos del mundo real\n"
     ]
    }
   ],
   "source": [
    "# Listar objetivos\n",
    "objetivos = [\"Aprender Python\", \"Dominar bibliotecas de ciencia de datos\", \"Aplicar ciencia de datos en proyectos del mundo real\"]\n",
    "for objetivo in objetivos:\n",
    "    print(\"- \" + objetivo)"
   ]
  },
  {
   "cell_type": "markdown",
   "id": "f78593c1-8862-470d-a980-765112c2e5cf",
   "metadata": {},
   "source": [
    "## Autora: Sixta Vivanco"
   ]
  },
  {
   "cell_type": "code",
   "execution_count": null,
   "id": "9814e4f2-63a6-4e99-9281-4bbdf12e9b3d",
   "metadata": {},
   "outputs": [],
   "source": []
  }
 ],
 "metadata": {
  "kernelspec": {
   "display_name": "Python 3 (ipykernel)",
   "language": "python",
   "name": "python3"
  },
  "language_info": {
   "codemirror_mode": {
    "name": "ipython",
    "version": 3
   },
   "file_extension": ".py",
   "mimetype": "text/x-python",
   "name": "python",
   "nbconvert_exporter": "python",
   "pygments_lexer": "ipython3",
   "version": "3.12.3"
  }
 },
 "nbformat": 4,
 "nbformat_minor": 5
}
